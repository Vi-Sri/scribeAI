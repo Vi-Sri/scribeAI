{
 "cells": [
  {
   "cell_type": "code",
   "execution_count": null,
   "metadata": {},
   "outputs": [],
   "source": [
    "transcript = open('data/lex_fridman_todd_howard_transcript.txt', 'r')\n",
    "\n",
    "transcript_prompt = \"\".join([l for l in transcript.readlines()[68:92]])\n",
    "\n",
    "# print(transcript_prompt)"
   ]
  },
  {
   "cell_type": "code",
   "execution_count": 49,
   "metadata": {},
   "outputs": [],
   "source": [
    "prompt_header = f\"\"\" \n",
    "Summarize the following transcript. Write using the following format. Replace everything in <> brackets.\n",
    "\n",
    "Main Points:\n",
    "- <main point 1>\n",
    "- <main point 2>\n",
    "- <and so on>\n",
    "\n",
    "Action Items:\n",
    "- <action 1>\n",
    "- <action 2>\n",
    "- <and so on>\n",
    "\n",
    "Most Recent Point\n",
    "<very short summary of most recent point made>\n",
    "\n",
    "Transcript:\n",
    "\n",
    "\"\"\"\n",
    "\n",
    "prompt_footer = f\"\"\" \n",
    "Transcript Summary of action items:\n",
    "\n",
    "\"\"\"\n",
    "\n",
    "prompt = prompt_header + transcript_prompt\n",
    "# prompt = transcript_prompt + prompt_footer\n"
   ]
  },
  {
   "cell_type": "code",
   "execution_count": 44,
   "metadata": {},
   "outputs": [
    {
     "name": "stdout",
     "output_type": "stream",
     "text": [
      " \n",
      "Summarize the following transcript. Write using the following format. Replace everything in <> brackets.\n",
      "\n",
      "Main Points:\n",
      "- <main point 1>\n",
      "- <main point 2>\n",
      "- <and so on>\n",
      "\n",
      "Action Items:\n",
      "- <action 1>\n",
      "- <action 2>\n",
      "- <and so on>\n",
      "\n",
      "Most Recent Point\n",
      "<summarize most recent point made>\n",
      "\n",
      "Transcript:\n",
      "\n",
      "SPEAKER B\n",
      "Oh, absolutely. We tend to write them in stacks. I think it was a small state machine that just says, okay, this is what's happening. Here's a random list of things I could say to that. And then some of that plays out in ways you don't anticipate. But we look at the things what are the players doing that we could have the characters respond to, that they don't expect jumping on tables or stealing stuff or sneaking in in the middle of the night or those kind of things. The more that we can do, the more reactive and interesting the characters appear.\n",
      "\n",
      "SPEAKER A\n",
      "And these state machines, how big are these things? Are these individual to the individual characters? That's just fascinating. How you design state machines. Is it just a giant?\n",
      "\n",
      "SPEAKER B\n",
      "I would think of the AI as one big one. Yeah. For sort of everybody.\n",
      "\n",
      "SPEAKER A\n",
      "So there's an AI, there's a manager.\n",
      "\n",
      "SPEAKER B\n",
      "For all the people. And one of the things people manager. One of the things that makes what we do particularly unique is and this is a trade off for what people are seeing because a lot of it's not on the screen, but we're using cycles to run this, which is we're thinking about everybody in the whole world all the time. The ones that are further away at a much less tick rate, they go into low. But we know if they want to walk across the world and we're running every quest at the same time. Whereas in other weapon world games, you start in activity, the rest of the world is going to shut down so that they can really make that as impactful. I really prefer that the rest of it's going on. It's more of a simulation that we're building. So when those things collide, that's where it gets the most interesting. And so we're running all of those people and understanding where they want to go in their cycles and what they want to do and the ones that are closer to you, we just update a lot more. It's one way to think about it.\n",
      "\n",
      "SPEAKER A\n",
      "I mean, that's really fascinating. It's something that people had. They were wondering about to what degree it's possible to run the world without you. So there is a feeling to role playing games that you're the central, you're at the center of the world, and the whole world rotates around you as it does in normal life. Like when we walk around, when you forget yourself, you start to take yourself very seriously, like you are the center of the world. You forget that there's 8 billion people on Earth, and you forget that they have lies. That's actually a sobering realization that they all have really interesting life stories and they have their worries. They suffer in different complicated ways. And yet when you play a role playing game, there's both computationally from a storytelling perspective, you wonder if the world goes on without you. Like if you come back, if you take a break and you come back, is there still a bustling town that now has a history since you have last visited? So to what degree can you create a world that goes on without you or goes on at the same time as you do your thing, whatever the heck you're doing?\n",
      "\n",
      "SPEAKER B\n",
      "We don't prioritize the stuff you can't see. So it's more like an amusement park. If you study like the design or level designers did this, how do they build Disney World in these places? So it still exists for you, the player? So it is fairly when you're going to come in, this is what you're going to see. The shops are in the front. You're going to do this. It's just for us to make it far more believable and get some more emergent behavior that not just make this sort of the various militude of what you're in for that moment, but you buy it all. Always say we got to do the little things so that you buy the reality of the virtual world you're in. So we want to do something crazy when a dragon lands or a death law comes out of the wasteland or those kind of things, that it has the impact to you as the viewer that it would to the people in the world.\n",
      "\n",
      "SPEAKER A\n",
      "Okay, but still you are simulating stuff that's close to you. It is a bit of a simulation going on.\n",
      "\n",
      "SPEAKER B\n",
      "Oh, absolutely, yes.\n",
      "\n",
      "SPEAKER A\n",
      "So that creates some interesting dynamics then.\n",
      "\n"
     ]
    }
   ],
   "source": [
    "print(prompt)"
   ]
  },
  {
   "cell_type": "code",
   "execution_count": null,
   "metadata": {},
   "outputs": [],
   "source": [
    "# Cohere's summarization is not very good.\n",
    "# pip install cohere\n",
    "import cohere\n",
    "\n",
    "api_key = None\n",
    "if api_key is None:\n",
    "    raise Exception('Please enter cohere api key.')\n",
    "    \n",
    "co = cohere.Client(api_key)\n",
    "\n",
    "\n",
    "response = co.generate( \n",
    "    model='xlarge', \n",
    "    prompt = prompt,\n",
    "    max_tokens=100, \n",
    "    temperature=0.2,\n",
    "    stop_sequences=[\"--\"])\n",
    "\n",
    "summary = response.generations[0].text\n",
    "print(prompt_footer + summary)"
   ]
  },
  {
   "cell_type": "code",
   "execution_count": 1,
   "metadata": {},
   "outputs": [],
   "source": [
    "# https://github.com/rawandahmad698/PyChatGPT\n",
    "# pip install chatgptpy --upgrade\n",
    "from pychatgpt import Chat, Options\n",
    "options = Options()\n",
    "email = None\n",
    "password = None\n",
    "if email is None or password is None:\n",
    "    raise Exception('Please enter your OpenAI Credentials')\n",
    "\n",
    "# options.track = False\n",
    "\n",
    "# Use a proxy\n",
    "# options.proxies = 'http://localhost:8080'\n",
    "\n",
    "# Optionally, you can pass a file path to save the conversation\n",
    "# They're created if they don't exist\n",
    "# options.chat_log = \"chat_log.txt\"\n",
    "# options.id_log = \"id_log.txt\"\n",
    "\n",
    "# Create a Chat object\n",
    "chat = Chat(email=email, password=password, options=options)"
   ]
  },
  {
   "cell_type": "code",
   "execution_count": 50,
   "metadata": {},
   "outputs": [
    {
     "name": "stdout",
     "output_type": "stream",
     "text": [
      "Main Points:\n",
      "- The speaker discusses the design of state machines in video games.\n",
      "- The speaker discusses the role of AI in video games.\n",
      "- The speaker discusses the design of open-world video games.\n",
      "\n",
      "Action Items:\n",
      "- None specified.\n",
      "\n",
      "Most Recent Point\n",
      "The speaker discusses the design of open-world video games.\n"
     ]
    }
   ],
   "source": [
    "answer = chat.ask(prompt)\n",
    "print(answer)"
   ]
  }
 ],
 "metadata": {
  "kernelspec": {
   "display_name": "Python 3.9.13 ('base')",
   "language": "python",
   "name": "python3"
  },
  "language_info": {
   "codemirror_mode": {
    "name": "ipython",
    "version": 3
   },
   "file_extension": ".py",
   "mimetype": "text/x-python",
   "name": "python",
   "nbconvert_exporter": "python",
   "pygments_lexer": "ipython3",
   "version": "3.9.13"
  },
  "orig_nbformat": 4,
  "vscode": {
   "interpreter": {
    "hash": "18e189b7a455dca94c157be0e0713a038d2605132cba86745af50b7dbf438d16"
   }
  }
 },
 "nbformat": 4,
 "nbformat_minor": 2
}
