{
 "cells": [
  {
   "cell_type": "markdown",
   "metadata": {},
   "source": [
    "# Testing out ways to parse gpt chat responses"
   ]
  },
  {
   "cell_type": "code",
   "execution_count": 15,
   "metadata": {},
   "outputs": [],
   "source": [
    "example_response = f\"\"\"\n",
    "Main Points:\n",
    "- The TPS reports need to be completed\n",
    "- Everyone is expected to attend the dance party\n",
    "\n",
    "Action Items:\n",
    "- Mark will complete the TPS reports\n",
    "- A calendar invite will be made for completing the TPS reports\n",
    "\n",
    "Recent Summary:\n",
    "- Mark will complete the TPS reports.\n",
    "\"\"\""
   ]
  },
  {
   "cell_type": "code",
   "execution_count": 7,
   "metadata": {},
   "outputs": [
    {
     "name": "stdout",
     "output_type": "stream",
     "text": [
      "['- The TPS reports need to be completed', '- Everyone is expected to attend the dance party']\n",
      "['- Mark will complete the TPS reports', '- A calendar invite will be made for completing the TPS reports']\n"
     ]
    }
   ],
   "source": [
    "def split(txt, seps):\n",
    "    default_sep = seps[0]\n",
    "\n",
    "    # we skip seps[0] because that's the default separator\n",
    "    for sep in seps[1:]:\n",
    "        txt = txt.replace(sep, default_sep)\n",
    "    return [i.strip() for i in txt.split(default_sep)]\n",
    "\n",
    "resp_groups = split(example_response, ['Action Items:', 'Main Points:', 'Recent Summary:'])\n",
    "\n",
    "# Note: resp_groups[0] = ''\n",
    "action_items = resp_groups[1]\n",
    "main_points = resp_groups[2]\n",
    "summary = resp_groups[3]\n",
    "\n",
    "print(action_items.split('\\n'))\n",
    "print(main_points.split('\\n'))"
   ]
  },
  {
   "cell_type": "markdown",
   "metadata": {},
   "source": [
    "# Testing out how to search around in drive"
   ]
  },
  {
   "cell_type": "code",
   "execution_count": 2,
   "metadata": {},
   "outputs": [],
   "source": [
    "import os\n",
    "\n",
    "from google.auth.transport.requests import Request\n",
    "from google.oauth2.credentials import Credentials\n",
    "from google_auth_oauthlib.flow import InstalledAppFlow\n",
    "from googleapiclient.discovery import build\n",
    "from googleapiclient.errors import HttpError\n",
    "\n",
    "credential_json = 'app_credential.json'\n",
    "SCOPES = ['https://www.googleapis.com/auth/documents.readonly',\n",
    "          'https://www.googleapis.com/auth/drive.readonly']\n"
   ]
  },
  {
   "cell_type": "code",
   "execution_count": 3,
   "metadata": {},
   "outputs": [],
   "source": [
    "\n",
    "def get_credentials(force=False):\n",
    "    \"\"\"Gets valid user credentials from storage.\n",
    "\n",
    "    If nothing has been stored, or if the stored credentials are invalid,\n",
    "    the OAuth 2.0 flow is completed to obtain the new credentials.\n",
    "\n",
    "    Returns:\n",
    "        Credentials, the obtained credential.\n",
    "    \"\"\"\n",
    "    creds = None\n",
    "    # The file token.json stores the user's access and refresh tokens, and is\n",
    "    # created automatically when the authorization flow completes for the first\n",
    "    # time.\n",
    "    if not force and os.path.exists('token.json'):\n",
    "        creds = Credentials.from_authorized_user_file('token.json', SCOPES)\n",
    "    # If there are no (valid) credentials available, let the user log in.\n",
    "    if not creds or not creds.valid:\n",
    "        if creds and creds.expired and creds.refresh_token:\n",
    "            creds.refresh(Request())\n",
    "        else:\n",
    "            flow = InstalledAppFlow.from_client_secrets_file(\n",
    "                credential_json, SCOPES)\n",
    "            creds = flow.run_local_server(port=0)\n",
    "        # Save the credentials for the next run\n",
    "        with open('token.json', 'w') as token:\n",
    "            token.write(creds.to_json())\n",
    "\n",
    "    return creds"
   ]
  },
  {
   "cell_type": "code",
   "execution_count": 29,
   "metadata": {},
   "outputs": [
    {
     "name": "stdout",
     "output_type": "stream",
     "text": [
      "Folders:\n",
      "{'parents': ['0AFuZxqT9lSZOUk9PVA'], 'id': '1O47S3z0aliFBFnugkF4-_t-oNYMv2Yz7', 'name': 'Meet Transcript'}\n",
      "mimeType='application/vnd.google-apps.document' and '1O47S3z0aliFBFnugkF4-_t-oNYMv2Yz7' in parents\n",
      "Target File:\n",
      "{'parents': ['1O47S3z0aliFBFnugkF4-_t-oNYMv2Yz7'], 'id': '1qPJ_sb9W0VhdpsFXhOQP9BFbLVK4dIpvr8alG_mHblU', 'name': '2022/12/10 18:45 - Sat Dec 10 6:45 pm'}\n"
     ]
    }
   ],
   "source": [
    "creds = get_credentials()\n",
    "\n",
    "\n",
    "def get_most_recent_transcript_id(creds):\n",
    "    drive_service = build('drive', 'v3', credentials=creds)\n",
    "\n",
    "    # first find the transcript folder\n",
    "    results = drive_service.files().list(\n",
    "        q=\"mimeType = 'application/vnd.google-apps.folder' and fullText contains 'Meet Transcript'\",\n",
    "        spaces='drive',\n",
    "        pageSize=5,\n",
    "        fields=\"nextPageToken, files(id, name, parents)\").execute()\n",
    "    folders = results.get('files', [])\n",
    "\n",
    "    if folders is None:\n",
    "        raise Exception(\"Meet Transcript folder not found within google drive! You need to start a Google Meet and a transcript!\\nDownload transcript generation app here: https://chrome.google.com/webstore/detail/meet-transcript/jkdogkallbmmdhpdjdpmoejkehfeefnb?hl=en\")\n",
    "        \n",
    "    assert len(folders) == 1\n",
    "    # print(\"Folders:\")\n",
    "    # print(folders[0])\n",
    "\n",
    "    # Use the transcript folder to query for the most recent document \n",
    "    query = \"mimeType='application/vnd.google-apps.document' and '\" + str(folders[0]['id']) + \"' in parents\"\n",
    "    results = drive_service.files().list(\n",
    "        q=query, \n",
    "        spaces='drive',\n",
    "        pageSize=5, \n",
    "        fields=\"nextPageToken, files(id, parents, name)\").execute()\n",
    "    files = results.get('files', [])\n",
    "\n",
    "    # NOTE: results are sorted by recent first.\n",
    "    if len(files) > 0:\n",
    "        print('Selected transcript file {}'.format(files[0]['name']))\n",
    "        return files[0]['id']\n",
    "    \n",
    "    return None\n",
    "\n",
    "print(get_most_recent_transcript_id(creds))"
   ]
  }
 ],
 "metadata": {
  "kernelspec": {
   "display_name": "Python 3 (ipykernel)",
   "language": "python",
   "name": "python3"
  },
  "language_info": {
   "codemirror_mode": {
    "name": "ipython",
    "version": 3
   },
   "file_extension": ".py",
   "mimetype": "text/x-python",
   "name": "python",
   "nbconvert_exporter": "python",
   "pygments_lexer": "ipython3",
   "version": "3.10.8"
  },
  "orig_nbformat": 4,
  "vscode": {
   "interpreter": {
    "hash": "b0fa6594d8f4cbf19f97940f81e996739fb7646882a419484c72d19e05852a7e"
   }
  }
 },
 "nbformat": 4,
 "nbformat_minor": 2
}
